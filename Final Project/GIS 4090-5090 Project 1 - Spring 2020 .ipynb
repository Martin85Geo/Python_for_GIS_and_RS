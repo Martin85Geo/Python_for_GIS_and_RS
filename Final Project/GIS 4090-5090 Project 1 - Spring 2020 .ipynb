{
 "cells": [
  {
   "cell_type": "markdown",
   "metadata": {},
   "source": [
    "# Problem 1 (15 Points)\n",
    "\n",
    "Unzip **imagery.zip.** Create a Notebook that uses ```arcpy``` Answer the following questions:\n",
    "1. How many rasters are in the folder?\n",
    "2. What is the projection of the rasters?\n",
    "3. Do all the rasters have the same projection? \n",
    "4. How many bands to the rasters have? \n",
    "5. What is the raster format? \n",
    "\n",
    "Please use markdown cells to explain your answers. I'm not looking for anything too fancy here, just show me how you can use Python and arcpy to answer these questions."
   ]
  },
  {
   "cell_type": "markdown",
   "metadata": {},
   "source": [
    "# Problem 2 (15 Points)\n",
    "\n",
    "Unzip **tlgdb_2019_a_us_school.gdb.** Create a Notebook that uses arcpy to create a report about the features in the geodatabase. List out the following:\n",
    "- Feature class name\n",
    "- Number of features in the feature class\n",
    "- Projection of the feature class\n",
    "- Shape type of the feature class (point, polyline, polygon, etc.)\n",
    "\n",
    "**Bonus (5 points)** Write your results out to a text file or comma separated text file."
   ]
  },
  {
   "cell_type": "markdown",
   "metadata": {},
   "source": [
    "# Problem 3 (20 Points)\n",
    "\n",
    "Unzip **usa_cities.gdb.zip.** Identify the largest cities in the United States that have a population greater than 1 million people. Using Python, print a table that lists those largest cities and their corresponding population, according to the **cities** feature class. Use ```POPULATION``` as the population field.\n",
    "\n",
    "I recommend Using [```arcpy.da.SearchCursor```](https://pro.arcgis.com/en/pro-app/arcpy/data-access/searchcursor-class.htm) to iterate through the cities feature class to create a list of the cities and corresponding populations."
   ]
  },
  {
   "cell_type": "markdown",
   "metadata": {},
   "source": [
    "# Problem 4 (20 Points)\n",
    "\n",
    "Unzip **usa_cities.gdb.zip.** Create a list of city capitals and their corresponding state.\n",
    "\n",
    "I recommend Using [```arcpy.da.SearchCursor```](https://pro.arcgis.com/en/pro-app/arcpy/data-access/searchcursor-class.htm) to iterate through the cities feature class to create a list of the cities and corresponding populations."
   ]
  },
  {
   "cell_type": "markdown",
   "metadata": {},
   "source": [
    "# Problem 5 (20 Points)\n",
    "\n",
    "Create a Python script or Notebook that copies all cities with a population over 1 million to a new feature class in the same geodatabase. \n",
    "\n",
    "I recommend exploring the following GP tools:\n",
    "- [Make Feature Layer](https://pro.arcgis.com/en/pro-app/tool-reference/data-management/make-feature-layer.htm)\n",
    "- [Select Layer by Attribute](https://pro.arcgis.com/en/pro-app/tool-reference/data-management/select-layer-by-attribute.htm)\n",
    "- [Copy Features](https://pro.arcgis.com/en/pro-app/tool-reference/data-management/copy-features.htm)\n",
    "\n",
    "**Bonus (10 points)** Using a ```for``` loop, write out the following 4 feature classes:\n",
    "- Feature class with a population greater than 1 million.\n",
    "- Feature class with a population between 500,000 and 1 million.\n",
    "- Feature class with a population between 100,000 and 500,000.\n",
    "- Feature class with a population less than 100,000"
   ]
  },
  {
   "cell_type": "markdown",
   "metadata": {},
   "source": [
    "# Grading \n",
    "\n",
    "The project is out of a total of 100 points, **80 points** for the problems, **20 points** for you code documentation. Please use Markdown cells in your notebooks to explain what you are doing or code comments such as ```##``` in your code cells. Any **Bonus** points can your score above 100 percent."
   ]
  }
 ],
 "metadata": {
  "kernelspec": {
   "display_name": "Python 3",
   "language": "python",
   "name": "python3"
  },
  "language_info": {
   "codemirror_mode": {
    "name": "ipython",
    "version": 3
   },
   "file_extension": ".py",
   "mimetype": "text/x-python",
   "name": "python",
   "nbconvert_exporter": "python",
   "pygments_lexer": "ipython3",
   "version": "3.6.9"
  }
 },
 "nbformat": 4,
 "nbformat_minor": 2
}
